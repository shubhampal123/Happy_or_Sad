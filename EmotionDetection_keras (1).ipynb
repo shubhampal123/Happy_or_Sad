{
  "nbformat": 4,
  "nbformat_minor": 0,
  "metadata": {
    "kernelspec": {
      "display_name": "Python 3",
      "language": "python",
      "name": "python3"
    },
    "language_info": {
      "codemirror_mode": {
        "name": "ipython",
        "version": 3
      },
      "file_extension": ".py",
      "mimetype": "text/x-python",
      "name": "python",
      "nbconvert_exporter": "python",
      "pygments_lexer": "ipython3",
      "version": "3.7.4"
    },
    "colab": {
      "name": "EmotionDetection_keras.ipynb",
      "provenance": [],
      "collapsed_sections": []
    }
  },
  "cells": [
    {
      "cell_type": "markdown",
      "metadata": {
        "id": "NP3tNtG3nQX_",
        "colab_type": "text"
      },
      "source": [
        "# Emotion Detection"
      ]
    },
    {
      "cell_type": "markdown",
      "metadata": {
        "id": "hNXYuXDBnQYB",
        "colab_type": "text"
      },
      "source": [
        "### Load The Datasets"
      ]
    },
    {
      "cell_type": "code",
      "metadata": {
        "id": "WNCC4EemnQYD",
        "colab_type": "code",
        "colab": {}
      },
      "source": [
        "# import libraries\n",
        "import h5py\n",
        "import numpy as np\n",
        "np.random.seed(1337)"
      ],
      "execution_count": 0,
      "outputs": []
    },
    {
      "cell_type": "code",
      "metadata": {
        "id": "hO5bW2zHnQYJ",
        "colab_type": "code",
        "colab": {}
      },
      "source": [
        "# training dataset\n",
        "train_dataset=h5py.File(\"train_happy.h5\",\"r\")\n",
        "train_x_o =np.array(train_dataset[\"train_set_x\"][:])\n",
        "train_x =train_x_o/255.0\n",
        "train_y =np.array(train_dataset[\"train_set_y\"][:])\n",
        "train_y =train_y.reshape((1,train_y.shape[0]))\n",
        "train_y =train_y.T"
      ],
      "execution_count": 0,
      "outputs": []
    },
    {
      "cell_type": "code",
      "metadata": {
        "scrolled": true,
        "id": "amDKqb68nQYO",
        "colab_type": "code",
        "colab": {}
      },
      "source": [
        "# testing dataset\n",
        "test_dataset=h5py.File(\"test_happy.h5\",\"r\")\n",
        "test_x_o =np.array(test_dataset[\"test_set_x\"][:])\n",
        "test_x =test_x_o/255.0\n",
        "test_y =np.array(test_dataset[\"test_set_y\"][:])\n",
        "test_y =test_y.reshape((1,test_y.shape[0]))\n",
        "test_y =test_y.T"
      ],
      "execution_count": 0,
      "outputs": []
    },
    {
      "cell_type": "markdown",
      "metadata": {
        "id": "o8q1kjXinQYT",
        "colab_type": "text"
      },
      "source": [
        "### Visualise The Images"
      ]
    },
    {
      "cell_type": "code",
      "metadata": {
        "id": "mdBHViHWnQYU",
        "colab_type": "code",
        "outputId": "8c33dde6-259c-4b11-d72c-fc3fb5b80d60",
        "colab": {
          "base_uri": "https://localhost:8080/",
          "height": 285
        }
      },
      "source": [
        "import matplotlib.pyplot as plt\n",
        "index=0\n",
        "plt.imshow(train_x_o[index])\n",
        "print(train_y[index][0])"
      ],
      "execution_count": 0,
      "outputs": [
        {
          "output_type": "stream",
          "text": [
            "0\n"
          ],
          "name": "stdout"
        },
        {
          "output_type": "display_data",
          "data": {
            "image/png": "[encoded data removed]",
            "text/plain": [
              "<Figure size 432x288 with 1 Axes>"
            ]
          },
          "metadata": {
            "tags": []
          }
        }
      ]
    },
    {
      "cell_type": "code",
      "metadata": {
        "id": "q0nG9aLonQYb",
        "colab_type": "code",
        "outputId": "b5e30438-3878-4a09-c21f-ac4c9d9b6d44",
        "colab": {
          "base_uri": "https://localhost:8080/",
          "height": 285
        }
      },
      "source": [
        "index=1\n",
        "plt.imshow(train_x_o[index])\n",
        "print(train_y[index][0])"
      ],
      "execution_count": 0,
      "outputs": [
        {
          "output_type": "stream",
          "text": [
            "1\n"
          ],
          "name": "stdout"
        },
        {
          "output_type": "display_data",
          "data": {
            "image/png": "[encoded data removed]",
            "text/plain": [
              "<Figure size 432x288 with 1 Axes>"
            ]
          },
          "metadata": {
            "tags": []
          }
        }
      ]
    },
    {
      "cell_type": "markdown",
      "metadata": {
        "id": "eLrRYYE8nQYh",
        "colab_type": "text"
      },
      "source": [
        "### Step-1 ) Create The Model"
      ]
    },
    {
      "cell_type": "code",
      "metadata": {
        "id": "U4f45JBtRnqT",
        "colab_type": "code",
        "colab": {}
      },
      "source": [
        "from keras import layers\n",
        "from keras.models import Model\n",
        "from keras.layers import Activation,Flatten,Input ,Dropout# Core Layers\n",
        "from keras.layers import MaxPooling2D,Conv2D,ZeroPadding2D,BatchNormalization,Dense # Con"
      ],
      "execution_count": 0,
      "outputs": []
    },
    {
      "cell_type": "code",
      "metadata": {
        "id": "ZMwPC116nQYn",
        "colab_type": "code",
        "colab": {}
      },
      "source": [
        "def MyModel1(input_shape):\n",
        "  X_input=Input(input_shape) # Placeholder for the image\n",
        "\n",
        "  X=ZeroPadding2D((3,3))(X_input) # Apply padding to the image\n",
        "\n",
        "  X=Conv2D(6,(5,5),strides=(1,1),name='conv0')(X) # 32 7*7 Filters with stride of 1\n",
        "  X=BatchNormalization(axis=3,name='bn0')(X) # BatchNormalisation \n",
        "  X=Activation('relu')(X) # Relu activation used\n",
        "  X=MaxPooling2D((2,2),name='max_pool0')(X) # MaxPooling\n",
        "\n",
        "  X=Conv2D(16,(5,5),strides=(1,1),name='conv1')(X) # 32 7*7 Filters with stride of 1\n",
        "  X=BatchNormalization(axis=3,name='bn1')(X) # BatchNormalisation \n",
        "  X=Activation('relu')(X) # Relu activation used\n",
        "  X=MaxPooling2D((2,2),name='max_pool1')(X) # MaxPooling \n",
        "\n",
        "  X=Flatten()(X)  # Flatten as so apply Dense layers now\n",
        "  X=Dense(128,activation='relu',name='fc0')(X)\n",
        "  X=Dropout(0.5)(X)\n",
        "\n",
        "  X=Dense(64,activation='relu',name='fc1')(X)\n",
        "  X=Dropout(0.5)(X)\n",
        "\n",
        "  X=Dense(1,activation='sigmoid',name='fc2')(X) # final layer with one unit\n",
        "\n",
        "  model= Model(inputs=X_input,outputs=X,name='happymodel') # model\n",
        "  return model\n",
        "  \n"
      ],
      "execution_count": 0,
      "outputs": []
    },
    {
      "cell_type": "code",
      "metadata": {
        "id": "CxnI2kEonQYr",
        "colab_type": "code",
        "colab": {}
      },
      "source": [
        "mymodel1=MyModel1(train_x.shape[1:])"
      ],
      "execution_count": 0,
      "outputs": []
    },
    {
      "cell_type": "code",
      "metadata": {
        "id": "yPMubdqM4Kju",
        "colab_type": "code",
        "outputId": "b9a00832-e676-4c3a-df7f-e28a99d684c3",
        "colab": {
          "base_uri": "https://localhost:8080/",
          "height": 686
        }
      },
      "source": [
        "mymodel1.summary()"
      ],
      "execution_count": 0,
      "outputs": [
        {
          "output_type": "stream",
          "text": [
            "Model: \"happymodel\"\n",
            "_________________________________________________________________\n",
            "Layer (type)                 Output Shape              Param #   \n",
            "=================================================================\n",
            "input_3 (InputLayer)         (None, 64, 64, 3)         0         \n",
            "_________________________________________________________________\n",
            "zero_padding2d_3 (ZeroPaddin (None, 70, 70, 3)         0         \n",
            "_________________________________________________________________\n",
            "conv0 (Conv2D)               (None, 66, 66, 6)         456       \n",
            "_________________________________________________________________\n",
            "bn0 (BatchNormalization)     (None, 66, 66, 6)         24        \n",
            "_________________________________________________________________\n",
            "activation_5 (Activation)    (None, 66, 66, 6)         0         \n",
            "_________________________________________________________________\n",
            "max_pool0 (MaxPooling2D)     (None, 33, 33, 6)         0         \n",
            "_________________________________________________________________\n",
            "conv1 (Conv2D)               (None, 29, 29, 16)        2416      \n",
            "_________________________________________________________________\n",
            "bn1 (BatchNormalization)     (None, 29, 29, 16)        64        \n",
            "_________________________________________________________________\n",
            "activation_6 (Activation)    (None, 29, 29, 16)        0         \n",
            "_________________________________________________________________\n",
            "max_pool1 (MaxPooling2D)     (None, 14, 14, 16)        0         \n",
            "_________________________________________________________________\n",
            "flatten_3 (Flatten)          (None, 3136)              0         \n",
            "_________________________________________________________________\n",
            "fc0 (Dense)                  (None, 128)               401536    \n",
            "_________________________________________________________________\n",
            "dropout_5 (Dropout)          (None, 128)               0         \n",
            "_________________________________________________________________\n",
            "fc1 (Dense)                  (None, 64)                8256      \n",
            "_________________________________________________________________\n",
            "dropout_6 (Dropout)          (None, 64)                0         \n",
            "_________________________________________________________________\n",
            "fc2 (Dense)                  (None, 1)                 65        \n",
            "=================================================================\n",
            "Total params: 412,817\n",
            "Trainable params: 412,773\n",
            "Non-trainable params: 44\n",
            "_________________________________________________________________\n"
          ],
          "name": "stdout"
        }
      ]
    },
    {
      "cell_type": "markdown",
      "metadata": {
        "id": "OI34IWHgXB_3",
        "colab_type": "text"
      },
      "source": [
        "### Step-2 ) Compile The Model"
      ]
    },
    {
      "cell_type": "code",
      "metadata": {
        "id": "WmyXI36WUZY0",
        "colab_type": "code",
        "colab": {}
      },
      "source": [
        "mymodel1.compile(optimizer='adam',loss='binary_crossentropy',metrics=['accuracy']) # Configures the model for training "
      ],
      "execution_count": 0,
      "outputs": []
    },
    {
      "cell_type": "markdown",
      "metadata": {
        "id": "zAlHkRQgaqtx",
        "colab_type": "text"
      },
      "source": [
        "### Step-3 ) Fit The Model"
      ]
    },
    {
      "cell_type": "code",
      "metadata": {
        "id": "F6aGJu43ZJed",
        "colab_type": "code",
        "outputId": "3f9a02e5-701d-4e9a-be9e-27c615a273f2",
        "colab": {
          "base_uri": "https://localhost:8080/",
          "height": 702
        }
      },
      "source": [
        "mymodel1.fit(train_x,train_y,epochs=20,batch_size=32)"
      ],
      "execution_count": 0,
      "outputs": [
        {
          "output_type": "stream",
          "text": [
            "Epoch 1/20\n",
            "600/600 [==============================] - 4s 7ms/step - loss: 1.0070 - acc: 0.5583\n",
            "Epoch 2/20\n",
            "600/600 [==============================] - 3s 6ms/step - loss: 0.7536 - acc: 0.5917\n",
            "Epoch 3/20\n",
            "600/600 [==============================] - 3s 6ms/step - loss: 0.5707 - acc: 0.6883\n",
            "Epoch 4/20\n",
            "600/600 [==============================] - 3s 6ms/step - loss: 0.4496 - acc: 0.7817\n",
            "Epoch 5/20\n",
            "600/600 [==============================] - 3s 6ms/step - loss: 0.3684 - acc: 0.8283\n",
            "Epoch 6/20\n",
            "600/600 [==============================] - 3s 6ms/step - loss: 0.3058 - acc: 0.8617\n",
            "Epoch 7/20\n",
            "600/600 [==============================] - 3s 6ms/step - loss: 0.2511 - acc: 0.9133\n",
            "Epoch 8/20\n",
            "600/600 [==============================] - 3s 6ms/step - loss: 0.2320 - acc: 0.9133\n",
            "Epoch 9/20\n",
            "600/600 [==============================] - 3s 6ms/step - loss: 0.1886 - acc: 0.9283\n",
            "Epoch 10/20\n",
            "600/600 [==============================] - 3s 6ms/step - loss: 0.1762 - acc: 0.9367\n",
            "Epoch 11/20\n",
            "600/600 [==============================] - 3s 6ms/step - loss: 0.1652 - acc: 0.9267\n",
            "Epoch 12/20\n",
            "600/600 [==============================] - 3s 6ms/step - loss: 0.1798 - acc: 0.9350\n",
            "Epoch 13/20\n",
            "600/600 [==============================] - 3s 6ms/step - loss: 0.1448 - acc: 0.9450\n",
            "Epoch 14/20\n",
            "600/600 [==============================] - 3s 6ms/step - loss: 0.1260 - acc: 0.9550\n",
            "Epoch 15/20\n",
            "600/600 [==============================] - 3s 6ms/step - loss: 0.1358 - acc: 0.9450\n",
            "Epoch 16/20\n",
            "600/600 [==============================] - 3s 6ms/step - loss: 0.1137 - acc: 0.9567\n",
            "Epoch 17/20\n",
            "600/600 [==============================] - 3s 6ms/step - loss: 0.1173 - acc: 0.9550\n",
            "Epoch 18/20\n",
            "600/600 [==============================] - 3s 6ms/step - loss: 0.1021 - acc: 0.9683\n",
            "Epoch 19/20\n",
            "600/600 [==============================] - 3s 6ms/step - loss: 0.0908 - acc: 0.9700\n",
            "Epoch 20/20\n",
            "600/600 [==============================] - 3s 6ms/step - loss: 0.0929 - acc: 0.9550\n"
          ],
          "name": "stdout"
        },
        {
          "output_type": "execute_result",
          "data": {
            "text/plain": [
              "<keras.callbacks.History at 0x7fd0a3763c88>"
            ]
          },
          "metadata": {
            "tags": []
          },
          "execution_count": 29
        }
      ]
    },
    {
      "cell_type": "markdown",
      "metadata": {
        "id": "joL_966-cMBx",
        "colab_type": "text"
      },
      "source": [
        "### Step-3 ) Evaluate The Model"
      ]
    },
    {
      "cell_type": "code",
      "metadata": {
        "id": "tjkKqdy7a9NS",
        "colab_type": "code",
        "outputId": "d5638ed7-3bb0-4f7a-b120-c20795b8adfe",
        "colab": {
          "base_uri": "https://localhost:8080/",
          "height": 33
        }
      },
      "source": [
        "predictions=mymodel1.evaluate(test_x,test_y)"
      ],
      "execution_count": 0,
      "outputs": [
        {
          "output_type": "stream",
          "text": [
            "150/150 [==============================] - 1s 4ms/step\n"
          ],
          "name": "stdout"
        }
      ]
    },
    {
      "cell_type": "code",
      "metadata": {
        "id": "njE2NAy5cWFj",
        "colab_type": "code",
        "outputId": "407732de-5a37-47b5-a2d2-a8e43ff820c0",
        "colab": {
          "base_uri": "https://localhost:8080/",
          "height": 67
        }
      },
      "source": [
        "print(\"Performance Of Model 1\")\n",
        "print(\"Loss->   \"+str(predictions[0]))\n",
        "print(\"Accuracy->  \"+str(predictions[1]))"
      ],
      "execution_count": 0,
      "outputs": [
        {
          "output_type": "stream",
          "text": [
            "Performance Of Model 1\n",
            "Loss->   0.14267047862211862\n",
            "Accuracy->  0.9533333309491475\n"
          ],
          "name": "stdout"
        }
      ]
    },
    {
      "cell_type": "code",
      "metadata": {
        "id": "N88MnEUBcnrm",
        "colab_type": "code",
        "colab": {}
      },
      "source": [
        ""
      ],
      "execution_count": 0,
      "outputs": []
    }
  ]
}